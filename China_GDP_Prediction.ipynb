{
  "nbformat": 4,
  "nbformat_minor": 0,
  "metadata": {
    "colab": {
      "provenance": [],
      "authorship_tag": "ABX9TyOzY5GdAJ/AfkJ3tWQTaH2D",
      "include_colab_link": true
    },
    "kernelspec": {
      "name": "python3",
      "display_name": "Python 3"
    },
    "language_info": {
      "name": "python"
    }
  },
  "cells": [
    {
      "cell_type": "markdown",
      "metadata": {
        "id": "view-in-github",
        "colab_type": "text"
      },
      "source": [
        "<a href=\"https://colab.research.google.com/github/bdfd/Portfolio_Project06_China_GDP_Prediction/blob/main/China_GDP_Prediction.ipynb\" target=\"_parent\"><img src=\"https://colab.research.google.com/assets/colab-badge.svg\" alt=\"Open In Colab\"/></a>"
      ]
    },
    {
      "cell_type": "markdown",
      "source": [
        "#China GDP Prediction"
      ],
      "metadata": {
        "id": "eczWWEPLbJX1"
      }
    },
    {
      "cell_type": "markdown",
      "source": [
        "##Basic Approach"
      ],
      "metadata": {
        "id": "f2fegLG-be6i"
      }
    },
    {
      "cell_type": "markdown",
      "source": [
        "The Approach\n",
        "1. Perform some quick EDA(Exploratory Data Analysis)\n",
        "2. Use Scikit-Learn Regression Algorithm\n",
        "3. Covert data into an array\n",
        "4. Converting the target variable int regression\n",
        "\n",
        "Target Cluster\n",
        "Datasets is about a set of data regarding China GPD with following regreesion model\n",
        "*   Regression Model:\n",
        "  *   1. Linear Regression\n",
        "  *   2. Cubic Regression\n",
        "  *   3. Quadratic Regression\n",
        "  *   4. Exponential Regression\n",
        "  *   4. Exponential Regression\n",
        "  "
      ],
      "metadata": {
        "id": "KIWM-oJ-bldo"
      }
    }
  ]
}